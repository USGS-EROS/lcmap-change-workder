{
 "cells": [
  {
   "cell_type": "code",
   "execution_count": 1,
   "metadata": {
    "collapsed": true
   },
   "outputs": [],
   "source": [
    "import requests\n",
    "import base64\n",
    "import numpy as np\n",
    "from datetime import datetime\n",
    "import bitstring"
   ]
  },
  {
   "cell_type": "code",
   "execution_count": 36,
   "metadata": {
    "collapsed": true
   },
   "outputs": [],
   "source": [
    "tile_url = \"\"\"http://lcmap-test.cr.usgs.gov/landsat/tiles?\\\n",
    "ubid=LANDSAT_7/ETM/sr_band1&\\\n",
    "ubid=LANDSAT_7/ETM/sr_band2&\\\n",
    "ubid=LANDSAT_7/ETM/sr_band3&\\\n",
    "ubid=LANDSAT_7/ETM/sr_band4&\\\n",
    "ubid=LANDSAT_7/ETM/sr_band5&\\\n",
    "ubid=LANDSAT_7/ETM/toa_band6&\\\n",
    "ubid=LANDSAT_7/ETM/sr_band7&\\\n",
    "ubid=LANDSAT_7/ETM/cfmask&\\\n",
    "x=-2013585&y=3095805&acquired=1982-01-01/2017-01-01\"\"\"\n",
    "fmask_url = \"\"\"http://lcmap-test.cr.usgs.gov/landsat/tiles?ubid=LANDSAT_7/ETM/cfmask&x=-2013585&y=3095805&acquired=1982-01-01/2017-01-01\"\"\"\n",
    "spec_url = \"http://lcmap-test.cr.usgs.gov/landsat/tile-spec/LANDSAT_7/ETM/sr_band1\""
   ]
  },
  {
   "cell_type": "code",
   "execution_count": 37,
   "metadata": {
    "collapsed": false
   },
   "outputs": [
    {
     "data": {
      "text/plain": [
       "'http://lcmap-test.cr.usgs.gov/landsat/tiles?ubid=LANDSAT_7/ETM/sr_band1&ubid=LANDSAT_7/ETM/sr_band2&ubid=LANDSAT_7/ETM/sr_band3&ubid=LANDSAT_7/ETM/sr_band4&ubid=LANDSAT_7/ETM/sr_band5&ubid=LANDSAT_7/ETM/toa_band6&ubid=LANDSAT_7/ETM/sr_band7&ubid=LANDSAT_7/ETM/cfmask&x=-2013585&y=3095805&acquired=1982-01-01/2017-01-01'"
      ]
     },
     "execution_count": 37,
     "metadata": {},
     "output_type": "execute_result"
    }
   ],
   "source": [
    "tile_url"
   ]
  },
  {
   "cell_type": "code",
   "execution_count": 4,
   "metadata": {
    "collapsed": false
   },
   "outputs": [
    {
     "data": {
      "text/plain": [
       "'http://lcmap-test.cr.usgs.gov/landsat/tiles?ubid=LANDSAT_7/ETM/cfmask&x=-2013585&y=3095805&acquired=1982-01-01/2017-01-01'"
      ]
     },
     "execution_count": 4,
     "metadata": {},
     "output_type": "execute_result"
    }
   ],
   "source": [
    "fmask_url"
   ]
  },
  {
   "cell_type": "code",
   "execution_count": 5,
   "metadata": {
    "collapsed": true
   },
   "outputs": [],
   "source": [
    "def sort_band_data(band, field):\n",
    "    return sorted(band, key=lambda x: x[field])\n",
    "\n",
    "def b64_to_bytearray(data):\n",
    "    return np.frombuffer(base64.b64decode(data), np.int16)\n",
    "\n",
    "def dtstr_to_ordinal(dtstr):\n",
    "    _dt = datetime.strptime(dtstr, '%Y-%m-%dT%H:%M:%SZ')\n",
    "    return _dt.toordinal()"
   ]
  },
  {
   "cell_type": "code",
   "execution_count": 44,
   "metadata": {
    "collapsed": true
   },
   "outputs": [],
   "source": [
    "tile_resp = requests.get(tile_url)"
   ]
  },
  {
   "cell_type": "code",
   "execution_count": 45,
   "metadata": {
    "collapsed": false
   },
   "outputs": [
    {
     "data": {
      "text/plain": [
       "200"
      ]
     },
     "execution_count": 45,
     "metadata": {},
     "output_type": "execute_result"
    }
   ],
   "source": [
    "tile_resp.status_code"
   ]
  },
  {
   "cell_type": "code",
   "execution_count": 10,
   "metadata": {
    "collapsed": true
   },
   "outputs": [],
   "source": [
    "#fmask_resp = requests.get(fmask_url)"
   ]
  },
  {
   "cell_type": "code",
   "execution_count": 11,
   "metadata": {
    "collapsed": false
   },
   "outputs": [
    {
     "data": {
      "text/plain": [
       "200"
      ]
     },
     "execution_count": 11,
     "metadata": {},
     "output_type": "execute_result"
    }
   ],
   "source": [
    "#fmask_resp.status_code"
   ]
  },
  {
   "cell_type": "code",
   "execution_count": 136,
   "metadata": {
    "collapsed": true
   },
   "outputs": [],
   "source": [
    "band1, band2, band3, band4, band5, band6, band7, fmask = [], [], [], [], [], [], [], [] "
   ]
  },
  {
   "cell_type": "code",
   "execution_count": 123,
   "metadata": {
    "collapsed": true
   },
   "outputs": [],
   "source": [
    "json_data = tile_resp.json()"
   ]
  },
  {
   "cell_type": "code",
   "execution_count": 124,
   "metadata": {
    "collapsed": false
   },
   "outputs": [],
   "source": [
    "# sort the data by band into their respective buckets\n",
    "for item in json_data:\n",
    "    which_band = item['ubid'][-5:]\n",
    "    vars()[which_band].append(item)"
   ]
  },
  {
   "cell_type": "code",
   "execution_count": 125,
   "metadata": {
    "collapsed": false,
    "scrolled": true
   },
   "outputs": [
    {
     "name": "stdout",
     "output_type": "stream",
     "text": [
      "band1: 296\n",
      "band2: 296\n",
      "band3: 296\n",
      "band4: 296\n",
      "band5: 296\n",
      "band6: 296\n",
      "band7: 296\n",
      "fmask: 967\n"
     ]
    }
   ],
   "source": [
    "for i in \"band1 band2 band3 band4 band5 band6 band7 fmask\".split(\" \"):\n",
    "    print \"{}: {}\".format(i, len(vars()[i]))"
   ]
  },
  {
   "cell_type": "code",
   "execution_count": 126,
   "metadata": {
    "collapsed": false
   },
   "outputs": [],
   "source": [
    "source_names = [i['source'] for i in band2]\n",
    "fmask_names = [i['source'] for i in fmask]\n",
    "valid_sources = set(source_names) & set(fmask_names)"
   ]
  },
  {
   "cell_type": "code",
   "execution_count": 127,
   "metadata": {
    "collapsed": false
   },
   "outputs": [
    {
     "data": {
      "text/plain": [
       "282"
      ]
     },
     "execution_count": 127,
     "metadata": {},
     "output_type": "execute_result"
    }
   ],
   "source": [
    "len(valid_sources)"
   ]
  },
  {
   "cell_type": "code",
   "execution_count": 128,
   "metadata": {
    "collapsed": true
   },
   "outputs": [],
   "source": [
    "#bandx = band1\n",
    "#buckets = (bandx, band2, band3, band4, band5, band6, band7, fmask)"
   ]
  },
  {
   "cell_type": "code",
   "execution_count": 129,
   "metadata": {
    "collapsed": false
   },
   "outputs": [],
   "source": [
    "for bucket in \"band1 band2 band3 band4 band5 band6 band7 fmask\".split(\" \"):\n",
    "    _orig = vars()[bucket]\n",
    "    _clean = vars()[bucket+'_clean'] = []\n",
    "    for item in _orig:\n",
    "        if item['source'] in valid_sources:\n",
    "            _clean.append(item)\n",
    "        #else:\n",
    "            #print bucket,' rejected'\n"
   ]
  },
  {
   "cell_type": "code",
   "execution_count": 131,
   "metadata": {
    "collapsed": false,
    "scrolled": true
   },
   "outputs": [
    {
     "name": "stdout",
     "output_type": "stream",
     "text": [
      "band1_clean: 282\n",
      "band2_clean: 282\n",
      "band3_clean: 282\n",
      "band4_clean: 282\n",
      "band5_clean: 282\n",
      "band6_clean: 282\n",
      "band7_clean: 282\n",
      "fmask_clean: 282\n"
     ]
    }
   ],
   "source": [
    "for i in \"band1_clean band2_clean band3_clean band4_clean band5_clean band6_clean band7_clean fmask_clean\".split(\" \"):\n",
    "    print \"{}: {}\".format(i, len(vars()[i]))"
   ]
  },
  {
   "cell_type": "code",
   "execution_count": 132,
   "metadata": {
    "collapsed": false
   },
   "outputs": [],
   "source": [
    "#for bucket in buckets:\n",
    "for bucket in \"band1 band2 band3 band4 band5 band6 band7 fmask\".split(\" \"):\n",
    "    _clean = vars()[bucket+'_clean']\n",
    "    _sorted = vars()[bucket+'_sorted'] = sort_band_data(_clean, 'acquired')\n",
    "    for item in _sorted:\n",
    "        item['bytedata'] = b64_to_bytearray(item['data'])"
   ]
  },
  {
   "cell_type": "code",
   "execution_count": 135,
   "metadata": {
    "collapsed": false
   },
   "outputs": [
    {
     "data": {
      "text/plain": [
       "10000"
      ]
     },
     "execution_count": 135,
     "metadata": {},
     "output_type": "execute_result"
    }
   ],
   "source": [
    "len(band1_sorted[0]['bytedata'])"
   ]
  },
  {
   "cell_type": "code",
   "execution_count": 138,
   "metadata": {
    "collapsed": false
   },
   "outputs": [],
   "source": [
    "#dtstr_to_ordinal(band1_sorted[0]['acquired'])\n",
    "dates = [dtstr_to_ordinal(i['acquired']) for i in band2_sorted]"
   ]
  },
  {
   "cell_type": "code",
   "execution_count": 139,
   "metadata": {
    "collapsed": false
   },
   "outputs": [
    {
     "data": {
      "text/plain": [
       "282"
      ]
     },
     "execution_count": 139,
     "metadata": {},
     "output_type": "execute_result"
    }
   ],
   "source": [
    "len(dates)"
   ]
  },
  {
   "cell_type": "code",
   "execution_count": 140,
   "metadata": {
    "collapsed": true
   },
   "outputs": [],
   "source": [
    "ubid_band_dict = {\n",
    "    'tm': {'red': 'band3',\n",
    "           'blue': 'band1',\n",
    "           'green': 'band2',\n",
    "           'nirs': 'band4',\n",
    "           'swirs1': 'band5',\n",
    "           'swirs2': 'band7',\n",
    "           'thermals': 'band6',\n",
    "           'qas': 'fmask'},\n",
    "    'oli': {'red': 'band4',\n",
    "            'blue': 'band2',\n",
    "            'green': 'band3',\n",
    "            'nirs': 'band5',\n",
    "            'swirs1': 'band6',\n",
    "            'swirs2': 'band7',\n",
    "            'thermals': 'band10',\n",
    "            'qas': 'fmask'}\n",
    "}"
   ]
  },
  {
   "cell_type": "code",
   "execution_count": 141,
   "metadata": {
    "collapsed": true
   },
   "outputs": [],
   "source": [
    "mapping = ubid_band_dict['tm']"
   ]
  },
  {
   "cell_type": "code",
   "execution_count": 143,
   "metadata": {
    "collapsed": true
   },
   "outputs": [],
   "source": [
    "reds = vars()[mapping['red']+'_sorted']\n",
    "greens = vars()[mapping['green']+'_sorted']\n",
    "blues = vars()[mapping['blue']+'_sorted']\n",
    "nirs = vars()[mapping['nirs']+'_sorted']\n",
    "swirs1 = vars()[mapping['swirs1']+'_sorted']\n",
    "swirs2 = vars()[mapping['swirs2']+'_sorted']\n",
    "thermals = vars()[mapping['thermals']+'_sorted']\n",
    "qas = vars()[mapping['qas']+'_sorted']"
   ]
  },
  {
   "cell_type": "code",
   "execution_count": 144,
   "metadata": {
    "collapsed": false
   },
   "outputs": [
    {
     "name": "stdout",
     "output_type": "stream",
     "text": [
      "282\n",
      "282\n",
      "282\n",
      "282\n",
      "282\n",
      "282\n",
      "282\n",
      "282\n"
     ]
    }
   ],
   "source": [
    "for grp in (reds, greens, blues, nirs, swirs1, swirs2, thermals, qas):\n",
    "    print len(grp)"
   ]
  },
  {
   "cell_type": "code",
   "execution_count": 146,
   "metadata": {
    "collapsed": true
   },
   "outputs": [],
   "source": [
    "# assuming tile shape of 100x100, cell count of 10000\n",
    "cell_count = 10000\n",
    "tile_range = range(0, cell_count)\n",
    "observation_range = range(0, len(band1_sorted))"
   ]
  },
  {
   "cell_type": "code",
   "execution_count": 223,
   "metadata": {
    "collapsed": false
   },
   "outputs": [
    {
     "data": {
      "text/plain": [
       "array([[ 516,  536,  476, ...,  422,  422,  438],\n",
       "       [ 380,  370,  361, ...,  445,  537,  520],\n",
       "       [2966, 2978, 3071, ..., 2579, 2450, 2624],\n",
       "       ..., \n",
       "       [ 260,  243,  231, ...,  223,  263,  255],\n",
       "       [ 977,  981,  973, ..., 1206, 1172, 1241],\n",
       "       [1553, 1405, 1355, ..., 3324, 3343, 3517]], dtype=int16)"
      ]
     },
     "execution_count": 223,
     "metadata": {},
     "output_type": "execute_result"
    }
   ],
   "source": [
    "# each bandx_sorted grouping of data convert to a two-dimensional numpy array\n",
    "band1_array = np.array([b64_to_bytearray(i['data']) for i in band1_sorted])\n",
    "band1_array"
   ]
  },
  {
   "cell_type": "code",
   "execution_count": 225,
   "metadata": {
    "collapsed": false
   },
   "outputs": [
    {
     "data": {
      "text/plain": [
       "array([[  516],\n",
       "       [  380],\n",
       "       [ 2966],\n",
       "       [  184],\n",
       "       [  260],\n",
       "       [  972],\n",
       "       [  855],\n",
       "       [   89],\n",
       "       [ 1766],\n",
       "       [ 1115],\n",
       "       [ 5163],\n",
       "       [ 3674],\n",
       "       [  424],\n",
       "       [20000],\n",
       "       [20000],\n",
       "       [  368],\n",
       "       [ 3024],\n",
       "       [20000],\n",
       "       [  422],\n",
       "       [  837],\n",
       "       [  313],\n",
       "       [  214],\n",
       "       [  205],\n",
       "       [ 3035],\n",
       "       [20000],\n",
       "       [  225],\n",
       "       [ 4533],\n",
       "       [ 4644],\n",
       "       [ 3010],\n",
       "       [  380],\n",
       "       [ 7458],\n",
       "       [ 2359],\n",
       "       [  519],\n",
       "       [ 3263],\n",
       "       [ 1315],\n",
       "       [  465],\n",
       "       [20000],\n",
       "       [  417],\n",
       "       [  303],\n",
       "       [20000],\n",
       "       [ 2874],\n",
       "       [  183],\n",
       "       [  343],\n",
       "       [  262],\n",
       "       [  998],\n",
       "       [ 1087],\n",
       "       [ 4096],\n",
       "       [ 1994],\n",
       "       [  309],\n",
       "       [ 3256],\n",
       "       [  329],\n",
       "       [20000],\n",
       "       [  472],\n",
       "       [  215],\n",
       "       [  305],\n",
       "       [ 1203],\n",
       "       [  388],\n",
       "       [ 1864],\n",
       "       [  286],\n",
       "       [  226],\n",
       "       [  197],\n",
       "       [ 6287],\n",
       "       [ 4461],\n",
       "       [ 1365],\n",
       "       [ 1504],\n",
       "       [  268],\n",
       "       [ 5336],\n",
       "       [  396],\n",
       "       [  962],\n",
       "       [ 2263],\n",
       "       [  253],\n",
       "       [20000],\n",
       "       [  264],\n",
       "       [ 2599],\n",
       "       [ 4520],\n",
       "       [ 1203],\n",
       "       [ 6256],\n",
       "       [  855],\n",
       "       [ 3745],\n",
       "       [  456],\n",
       "       [  419],\n",
       "       [ 1687],\n",
       "       [  576],\n",
       "       [  745],\n",
       "       [20000],\n",
       "       [  251],\n",
       "       [  418],\n",
       "       [ 2688],\n",
       "       [  221],\n",
       "       [  223],\n",
       "       [-9999],\n",
       "       [ 5369],\n",
       "       [ 8376],\n",
       "       [-9999],\n",
       "       [  447],\n",
       "       [ 3636],\n",
       "       [  306],\n",
       "       [-9999],\n",
       "       [ 1218],\n",
       "       [  341],\n",
       "       [-9999],\n",
       "       [  195],\n",
       "       [-9999],\n",
       "       [ 1266],\n",
       "       [  358],\n",
       "       [ 2568],\n",
       "       [20000],\n",
       "       [ 4775],\n",
       "       [ 4933],\n",
       "       [  628],\n",
       "       [ 4363],\n",
       "       [ 3928],\n",
       "       [-9999],\n",
       "       [  738],\n",
       "       [  382],\n",
       "       [  729],\n",
       "       [  316],\n",
       "       [20000],\n",
       "       [-9999],\n",
       "       [  893],\n",
       "       [  217],\n",
       "       [-9999],\n",
       "       [  262],\n",
       "       [20000],\n",
       "       [ 2927],\n",
       "       [ 1133],\n",
       "       [ 3178],\n",
       "       [ 7221],\n",
       "       [ 1518],\n",
       "       [ 1460],\n",
       "       [-9999],\n",
       "       [  329],\n",
       "       [  315],\n",
       "       [ 1763],\n",
       "       [  426],\n",
       "       [ 1939],\n",
       "       [  274],\n",
       "       [20000],\n",
       "       [  267],\n",
       "       [  738],\n",
       "       [ 1222],\n",
       "       [ 4606],\n",
       "       [  957],\n",
       "       [ 1622],\n",
       "       [  743],\n",
       "       [  830],\n",
       "       [20000],\n",
       "       [  487],\n",
       "       [  239],\n",
       "       [  185],\n",
       "       [ 1313],\n",
       "       [  126],\n",
       "       [  286],\n",
       "       [-9999],\n",
       "       [ 3044],\n",
       "       [ 1265],\n",
       "       [  976],\n",
       "       [ 1177],\n",
       "       [ 3299],\n",
       "       [  390],\n",
       "       [ 3569],\n",
       "       [20000],\n",
       "       [  300],\n",
       "       [ 1058],\n",
       "       [  550],\n",
       "       [ 2848],\n",
       "       [ 2480],\n",
       "       [20000],\n",
       "       [  211],\n",
       "       [  260],\n",
       "       [  873],\n",
       "       [ 1664],\n",
       "       [  972],\n",
       "       [  613],\n",
       "       [ 4231],\n",
       "       [  265],\n",
       "       [  245],\n",
       "       [20000],\n",
       "       [ 1678],\n",
       "       [ 2860],\n",
       "       [  299],\n",
       "       [  197],\n",
       "       [ 1381],\n",
       "       [ 1166],\n",
       "       [20000],\n",
       "       [ 3556],\n",
       "       [ 3099],\n",
       "       [  296],\n",
       "       [  443],\n",
       "       [  340],\n",
       "       [ 1811],\n",
       "       [  518],\n",
       "       [  290],\n",
       "       [20000],\n",
       "       [ 2519],\n",
       "       [ 1076],\n",
       "       [  213],\n",
       "       [ 1871],\n",
       "       [  238],\n",
       "       [  234],\n",
       "       [ 1895],\n",
       "       [-9999],\n",
       "       [  999],\n",
       "       [ 6621],\n",
       "       [  518],\n",
       "       [  726],\n",
       "       [  262],\n",
       "       [ 3174],\n",
       "       [20000],\n",
       "       [-9999],\n",
       "       [20000],\n",
       "       [  213],\n",
       "       [  262],\n",
       "       [  220],\n",
       "       [  160],\n",
       "       [-9999],\n",
       "       [-9999],\n",
       "       [ 3008],\n",
       "       [  233],\n",
       "       [  883],\n",
       "       [  375],\n",
       "       [  396],\n",
       "       [  427],\n",
       "       [  150],\n",
       "       [  428],\n",
       "       [  276],\n",
       "       [  250],\n",
       "       [ 5693],\n",
       "       [20000],\n",
       "       [-9999],\n",
       "       [ 2232],\n",
       "       [  220],\n",
       "       [ 3753],\n",
       "       [20000],\n",
       "       [ 2745],\n",
       "       [ 2388],\n",
       "       [ 4956],\n",
       "       [ 4149],\n",
       "       [ 2988],\n",
       "       [ 1389],\n",
       "       [ 1901],\n",
       "       [ 2320],\n",
       "       [  307],\n",
       "       [20000],\n",
       "       [ 4926],\n",
       "       [20000],\n",
       "       [  208],\n",
       "       [  210],\n",
       "       [  626],\n",
       "       [  193],\n",
       "       [ 5112],\n",
       "       [20000],\n",
       "       [  279],\n",
       "       [ 2175],\n",
       "       [ 7479],\n",
       "       [  143],\n",
       "       [  341],\n",
       "       [  231],\n",
       "       [  217],\n",
       "       [  274],\n",
       "       [ 1152],\n",
       "       [  217],\n",
       "       [  728],\n",
       "       [ 1681],\n",
       "       [  171],\n",
       "       [  179],\n",
       "       [  184],\n",
       "       [-9999],\n",
       "       [ 3426],\n",
       "       [  362],\n",
       "       [ 3696],\n",
       "       [  278],\n",
       "       [ 3118],\n",
       "       [  130],\n",
       "       [  281],\n",
       "       [  200],\n",
       "       [  194],\n",
       "       [  229],\n",
       "       [  260],\n",
       "       [  977],\n",
       "       [ 1553]], dtype=int16)"
      ]
     },
     "execution_count": 225,
     "metadata": {},
     "output_type": "execute_result"
    }
   ],
   "source": [
    "#>>> b[0:3,0:1]\n",
    "# should be 281 tiles deep\n",
    "band1_array[0:281,0:1]"
   ]
  },
  {
   "cell_type": "code",
   "execution_count": 217,
   "metadata": {
    "collapsed": false
   },
   "outputs": [
    {
     "data": {
      "text/plain": [
       "516"
      ]
     },
     "execution_count": 217,
     "metadata": {},
     "output_type": "execute_result"
    }
   ],
   "source": [
    "aa = b64_to_bytearray(band1_sorted[0]['data'])\n",
    "len(aa)\n",
    "aa[0]"
   ]
  },
  {
   "cell_type": "code",
   "execution_count": 213,
   "metadata": {
    "collapsed": false
   },
   "outputs": [
    {
     "data": {
      "text/plain": [
       "10000"
      ]
     },
     "execution_count": 213,
     "metadata": {},
     "output_type": "execute_result"
    }
   ],
   "source": [
    "#z = bytearray(x)\n",
    "z = np.frombuffer(x, np.int16)\n",
    "len(z)"
   ]
  },
  {
   "cell_type": "code",
   "execution_count": 203,
   "metadata": {
    "collapsed": false
   },
   "outputs": [
    {
     "data": {
      "text/plain": [
       "(35127812, 31326684, 28836314, 29884901)"
      ]
     },
     "execution_count": 203,
     "metadata": {},
     "output_type": "execute_result"
    }
   ],
   "source": [
    "import struct\n",
    "#struct.calcsize(x)\n",
    "struct.unpack_from('@iiii', x)"
   ]
  },
  {
   "cell_type": "code",
   "execution_count": 107,
   "metadata": {
    "collapsed": true
   },
   "outputs": [],
   "source": [
    "spec_url = \"http://lcmap-test.cr.usgs.gov/landsat/tile-spec/LANDSAT_7/ETM/sr_band1\""
   ]
  },
  {
   "cell_type": "code",
   "execution_count": 31,
   "metadata": {
    "collapsed": false
   },
   "outputs": [],
   "source": [
    "spec_resp = requests.get(spec_url)"
   ]
  },
  {
   "cell_type": "code",
   "execution_count": 32,
   "metadata": {
    "collapsed": false
   },
   "outputs": [
    {
     "data": {
      "text/plain": [
       "[u'acquired', u'source', u'y', u'x', u'ubid', u'data']"
      ]
     },
     "execution_count": 32,
     "metadata": {},
     "output_type": "execute_result"
    }
   ],
   "source": [
    "# date needs to be iso8601.to_ordinal"
   ]
  },
  {
   "cell_type": "code",
   "execution_count": 138,
   "metadata": {
    "collapsed": true
   },
   "outputs": [],
   "source": [
    "tdata = b64_to_bytearray(band1_sorted[0]['data'])"
   ]
  },
  {
   "cell_type": "code",
   "execution_count": 142,
   "metadata": {
    "collapsed": false
   },
   "outputs": [
    {
     "data": {
      "text/plain": [
       "20000"
      ]
     },
     "execution_count": 142,
     "metadata": {},
     "output_type": "execute_result"
    }
   ],
   "source": [
    "len(tdata)"
   ]
  },
  {
   "cell_type": "code",
   "execution_count": 145,
   "metadata": {
    "collapsed": false
   },
   "outputs": [
    {
     "data": {
      "text/plain": [
       "148"
      ]
     },
     "execution_count": 145,
     "metadata": {},
     "output_type": "execute_result"
    }
   ],
   "source": [
    "tdata[10000]"
   ]
  },
  {
   "cell_type": "code",
   "execution_count": 33,
   "metadata": {
    "collapsed": true
   },
   "outputs": [],
   "source": [
    "tile_ba = bytearray(base64.b64decode(tile_resp.json()[0]['data']))"
   ]
  },
  {
   "cell_type": "code",
   "execution_count": 34,
   "metadata": {
    "collapsed": true
   },
   "outputs": [],
   "source": [
    "data_shape = spec_resp.json()['data_shape']"
   ]
  },
  {
   "cell_type": "code",
   "execution_count": 35,
   "metadata": {
    "collapsed": false
   },
   "outputs": [],
   "source": [
    "# always a square\n",
    "tile_cell_count = data_shape[0] * data_shape[1]"
   ]
  },
  {
   "cell_type": "code",
   "execution_count": 36,
   "metadata": {
    "collapsed": true
   },
   "outputs": [],
   "source": [
    "tile_array = np.array(tile_ba)"
   ]
  },
  {
   "cell_type": "code",
   "execution_count": 37,
   "metadata": {
    "collapsed": false
   },
   "outputs": [
    {
     "data": {
      "text/plain": [
       "2"
      ]
     },
     "execution_count": 37,
     "metadata": {},
     "output_type": "execute_result"
    }
   ],
   "source": [
    "num_tiles = len(tile_array) / tile_cell_count\n",
    "num_tiles"
   ]
  },
  {
   "cell_type": "code",
   "execution_count": 38,
   "metadata": {
    "collapsed": true
   },
   "outputs": [],
   "source": [
    "split_array = np.reshape(tile_array, (num_tiles, -1))"
   ]
  },
  {
   "cell_type": "code",
   "execution_count": 39,
   "metadata": {
    "collapsed": false
   },
   "outputs": [
    {
     "data": {
      "text/plain": [
       "array([[ 91,   4,  55, ...,  13,  66,  14],\n",
       "       [ 39,  17, 100, ...,  21,  49,  22]], dtype=uint8)"
      ]
     },
     "execution_count": 39,
     "metadata": {},
     "output_type": "execute_result"
    }
   ],
   "source": [
    "split_array"
   ]
  },
  {
   "cell_type": "code",
   "execution_count": 40,
   "metadata": {
    "collapsed": false
   },
   "outputs": [
    {
     "data": {
      "text/plain": [
       "2"
      ]
     },
     "execution_count": 40,
     "metadata": {},
     "output_type": "execute_result"
    }
   ],
   "source": [
    "len(split_array)\n"
   ]
  },
  {
   "cell_type": "code",
   "execution_count": 42,
   "metadata": {
    "collapsed": false
   },
   "outputs": [
    {
     "data": {
      "text/plain": [
       "9999"
      ]
     },
     "execution_count": 42,
     "metadata": {},
     "output_type": "execute_result"
    }
   ],
   "source": [
    "tile_range = range(0, len(split_array[0]))\n",
    "tile_range[-1]"
   ]
  },
  {
   "cell_type": "code",
   "execution_count": null,
   "metadata": {
    "collapsed": true
   },
   "outputs": [],
   "source": [
    "## numpy array indexing example\n",
    ">>> b = np.arange(12).reshape(3,4)\n",
    ">>> b\n",
    "array([[ 0,  1,  2,  3],\n",
    "       [ 4,  5,  6,  7],\n",
    "       [ 8,  9, 10, 11]])\n",
    ">>>\n",
    ">>> b[0:3,0:1]\n",
    "array([[0],\n",
    "       [4],\n",
    "       [8]])\n",
    ">>> b[0:3,1:2]\n",
    "array([[1],\n",
    "       [5],\n",
    "       [9]])\n",
    ">>> b[0:3,2:3]\n",
    "array([[ 2],\n",
    "       [ 6],\n",
    "       [10]])\n"
   ]
  },
  {
   "cell_type": "code",
   "execution_count": null,
   "metadata": {
    "collapsed": true
   },
   "outputs": [],
   "source": [
    "# results = ccd.detect(dates, reds, greens, blues, nirs, swir1s, swir2s, thermals, qas)\n",
    "# need: date_array, reds_array, greens_array, blues_array, nirs_array, swirs2_array,...\n",
    "# on a per cell basis"
   ]
  }
 ],
 "metadata": {
  "kernelspec": {
   "display_name": "Python 2",
   "language": "python",
   "name": "python2"
  },
  "language_info": {
   "codemirror_mode": {
    "name": "ipython",
    "version": 2
   },
   "file_extension": ".py",
   "mimetype": "text/x-python",
   "name": "python",
   "nbconvert_exporter": "python",
   "pygments_lexer": "ipython2",
   "version": "2.7.5"
  }
 },
 "nbformat": 4,
 "nbformat_minor": 0
}
