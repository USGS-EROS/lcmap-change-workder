{
 "cells": [
  {
   "cell_type": "code",
   "execution_count": 1,
   "metadata": {
    "collapsed": true,
    "deletable": true,
    "editable": true
   },
   "outputs": [],
   "source": [
    "import pw\n",
    "import json\n",
    "import glob\n",
    "import ccd\n",
    "import hashlib\n",
    "import os\n",
    "import numpy as np\n",
    "import xarray as xr\n",
    "import pandas as pd\n",
    "from datetime import datetime\n",
    "\n",
    "from pyspark import SparkConf, SparkContext"
   ]
  },
  {
   "cell_type": "code",
   "execution_count": 3,
   "metadata": {
    "collapsed": false,
    "deletable": true,
    "editable": true
   },
   "outputs": [
    {
     "data": {
      "text/plain": [
       "True"
      ]
     },
     "execution_count": 3,
     "metadata": {},
     "output_type": "execute_result"
    }
   ],
   "source": [
    "# these need to be set to python3\n",
    "os.getenv('PYSPARK_DRIVER_PYTHON') == os.getenv('PYSPARK_PYTHON')"
   ]
  },
  {
   "cell_type": "code",
   "execution_count": 4,
   "metadata": {
    "collapsed": true,
    "deletable": true,
    "editable": true
   },
   "outputs": [],
   "source": [
    "conf = (SparkConf().setAppName(\"lcmap-gen-{}\".format(datetime.now().strftime('%Y-%m-%d-%I:%M')))\\\n",
    "        .setMaster(pw.LPW_MESOS_MASTER)\\\n",
    "        .set(\"spark.mesos.executor.docker.image\", pw.LPW_EXECUTOR_IMAGE)\\\n",
    "        .set(\"spark.executor.cores\", pw.LPW_EXECUTOR_CORES)\\\n",
    "        .set(\"spark.mesos.executor.docker.forcePullImage\", pw.LPW_EXECUTOR_FORCE_PULL_IMAGE))"
   ]
  },
  {
   "cell_type": "code",
   "execution_count": 5,
   "metadata": {
    "collapsed": true,
    "deletable": true,
    "editable": true
   },
   "outputs": [],
   "source": [
    "sc = SparkContext(conf=conf)"
   ]
  },
  {
   "cell_type": "code",
   "execution_count": 6,
   "metadata": {
    "collapsed": true,
    "deletable": true,
    "editable": true
   },
   "outputs": [],
   "source": [
    "good_input_data = {'algorithm': 'lcmap-pyccd:1.0.3.b1',\n",
    "                   'tile_update_requested': '2017-02-28T04:35:46.023Z',\n",
    "                   'tile_x': -1821585,\n",
    "                   'tile_y': 2891595,\n",
    "                   'inputs_url': 'http://< !!  you define !! >/landsat/tiles?x=-1851585&y=2870805&acquired=1980-01-01/2015-12-31&ubid=LANDSAT_4/TM/cfmask&ubid=LANDSAT_4/TM/sr_band1&ubid=LANDSAT_4/TM/sr_band2&ubid=LANDSAT_4/TM/sr_band3&ubid=LANDSAT_4/TM/sr_band4&ubid=LANDSAT_4/TM/sr_band5&ubid=LANDSAT_4/TM/sr_band7&ubid=LANDSAT_4/TM/toa_band6&ubid=LANDSAT_5/TM/cfmask&ubid=LANDSAT_5/TM/sr_band1&ubid=LANDSAT_5/TM/sr_band2&ubid=LANDSAT_5/TM/sr_band3&ubid=LANDSAT_5/TM/sr_band4&ubid=LANDSAT_5/TM/sr_band5&ubid=LANDSAT_5/TM/sr_band7&ubid=LANDSAT_5/TM/toa_band6&ubid=LANDSAT_7/ETM/cfmask&ubid=LANDSAT_7/ETM/sr_band1&ubid=LANDSAT_7/ETM/sr_band2&ubid=LANDSAT_7/ETM/sr_band3&ubid=LANDSAT_7/ETM/sr_band4&ubid=LANDSAT_7/ETM/sr_band5&ubid=LANDSAT_7/ETM/sr_band7&ubid=LANDSAT_7/ETM/toa_band6'}"
   ]
  },
  {
   "cell_type": "code",
   "execution_count": 11,
   "metadata": {
    "collapsed": true,
    "deletable": true,
    "editable": true
   },
   "outputs": [],
   "source": [
    "# at this point, you could take 'good_input_data' and call pw.worker.spark_job(good_input_data)\n",
    "# that would assemble the data, format it for pyccd, and create a spark job to generate results\n",
    "# it would then try to save them off to the cassandra instance you have configured in the environment\n",
    "# settings referenced by the pw module when its loaded.\n",
    "data = pw.worker.assemble_data(good_input_data)"
   ]
  },
  {
   "cell_type": "code",
   "execution_count": 12,
   "metadata": {
    "collapsed": false,
    "deletable": true,
    "editable": true
   },
   "outputs": [
    {
     "data": {
      "text/plain": [
       "True"
      ]
     },
     "execution_count": 12,
     "metadata": {},
     "output_type": "execute_result"
    }
   ],
   "source": [
    "# we should have data for 10k pixels\n",
    "len(data['data']) == 10000"
   ]
  },
  {
   "cell_type": "code",
   "execution_count": 13,
   "metadata": {
    "collapsed": true,
    "deletable": true,
    "editable": true
   },
   "outputs": [],
   "source": [
    "# We dont need to operate on all 10k pixels\n",
    "short_data = data['data'][:10]\n",
    "ccd_rdd = sc.parallelize(short_data, pw.LPW_SPARK_PARALLELIZATION)"
   ]
  },
  {
   "cell_type": "code",
   "execution_count": 14,
   "metadata": {
    "collapsed": true,
    "deletable": true,
    "editable": true
   },
   "outputs": [],
   "source": [
    "# map and collect pyccd results for our subset of data\n",
    "# the first element of x is a tuple of the x and y coordinates for that pixel stack\n",
    "x = ccd_rdd.map(lambda x: detect(x, x[0][0], x[0][1])).collect()"
   ]
  },
  {
   "cell_type": "code",
   "execution_count": 15,
   "metadata": {
    "collapsed": false,
    "deletable": true,
    "editable": true
   },
   "outputs": [
    {
     "data": {
      "text/plain": [
       "{'algorithm': 'lcmap-pyccd:1.3.0',\n",
       " 'inputs_md5': 'not implemented',\n",
       " 'result': '{\"processing_mask\": [false, false, false, false, false, true, false, false, false, false, true, true, true, true, true, true, false, false, false, false, false, false, true, true, false, false, false, true, false, true, true, true, true, true, true, true, true, true, true, false, false, true, false, false, true, false, false, false, false, false, true, true, false, true, true, true, true, true, true, true, true, true, true, false, true, true, true, true, true, false, false, false, true, true, true, false, false, false, true, false, false, false, false, true, false, false, false, false, true, true, true, false, false, true, true, true, true, true, true, true, false, false, true, true, true, true, true, true, false, false, true, true, false, true, false, true, true, false, true, true, true, true, true, true, true, false, true, true, false, true, true, false, true, false, false, false, true, false, false, false, true, true, false, true, false, true, true, true, true, true, true, false, true, true, false, true, true, true, true, true, true, true, true, false, true, false, true, true, false, true, false, false, true, true, false, false, true, false, false, true, false, true, true, true, false, true, false, true, true, true, false, false, false, true, true, true, true, true, false, false, true, true, false, false, true, true, true, true, true, true, true, true, true, true, true, true, true, true, false, true, true, true, true, false, true, true, true, false, true, true, true, false, true, true, true, true, true, false, true, false, true, true, true, false, false, false, true, false, false, false, false, false, false, true, false, false, false, false, false, true, true, false, true, true, true, true, true, true, true, true, true, false, true, true, true, true, true, true, true, true, true, false, false, false, true, false, false, false, false, true, false, false, true, false, true, true, false, false, true, true, false, false, true, false, true, false, true, true, true, true, false, true, false, false, false, true, true, true, true, false, false, false, true, true, false, false, false, false, true, true, false, true, true, true, true, false, true, true, true, true, true, true, true, true, true, false, true, false, false, true, false, true, true, true, true, false, false, false, true, false, true, true, false, true, false, false, true, false, false, true, true, true, true, true, false, false, true, false, true, false, true, false, true, true, false, true, false, false, true, false, false, false, true, false, true, true, false, true, false, true, true, true, true, true, true, false, false, true, false, true, true, false, true, true, true, false, false, false, false, true, true, false, true, true, true, false, false, false, true, false, true, true, true, true, false, false, true, true, true, false, true, true, true, true, true, true, true, true, true, true, true, true, true, true, true, true, true, false, false, false, false, false, false, false, false, true, false, true, true, false, true, false, false, false, true, false, false, true, true, true, true, true, true, true, false, true, false, true, true, false, false, true, true, false, true, true, true, true, false, false, true, true, false, true, false, true, false, false, true, true, false, false, false, false, false, false, false, false, false, true, false, false, false, false, true, false, false, false, false, true, true, false, true, false, true, true, true, false, false, false, false, false, false, true, true, true, true, true, true, false, true, true, true, true, true, true, true, true, true, true, false, true, true, false, true, true, true, true, true, true, true, true, true, false, false, false, true, false, false, false, false, false, false, false, false, false, true, false, false, true, true, false, false, true, true, true, true, false, false, false, true, false, false, false, false, true, false, true, true, true, false, false, true, false, false, true, true, false, true, true, false, true, true, false, false, true, true, true, true, false, true, true, true, true, true, true, false, true, true, true, false, false, false, true, false, true, false, true, false, false, false, false, true, false, false, false, true, true, false, true, false, false, true, true, false, true, false, true, true, false, true, false, false, false, true, false, true, true, false, false, true, true, true, true, true, true, true, true, true, true, true, true, false, true, true, true, true, false, false, false, true, true, true, true, true, true, true, true, true, true, true, true, true, false, false, false, false, true, false, true, false, false, true, false, false, true, true, true, false, true, false, false, false, true, true, true, false, true, true, false, true, false, false, false, false, true, false, true, true, false, true, true, true, true, true, false, true, true, false, false, true, true, false, true, true, true, true, true, true, false, false, false, true, false, true, false, false, true, false, false, false, false, true, false, false, false, false, false, false, false, true, false, false, false, false, true, true, false, false, true, true, false, true, true, true, false, true, false, true, false, true, false, false, false, false, true, false, false, true, true, false, true, false, true, true, true, true, false, false, true, true, true, false, false, true, true, false, true, true, true, true, true, true, false, false, false, true, false, true, false, false, false, false, true, false, true, true, true, false, false, false, false, true, false, false, false, false, false, false, false, false, false, true, false, true, false, true, false, false, false, true, false, false, true, true, true, true, false, true, true, false, false, true, false, true, true, true, false, true, true, true, true, false, true, true, true, true, false, true, true, true, true, true, true, true, true, true, true, false, true, true, false, true, true, false, false, true, true, true, false, false, true, true, false, false, false, false, false, false, true, false, false, false, false, false, false, true, false, true, true, true, true, false, true, true, false, false, true, false, true, true, false, true, true, true, true, true, false, false, true, true, true, true, true, true, true, true, true, true, true, true, true, true, true, true, true, true, true, false, false, true, true, true, false, false, true, true, false, false, true, false, true, true, true, true, false, false, false, false, false, false, false, false, false, false, false, false, true, false, false, false, false, false, false, false, false, false, false, false, false, true, false, true, false, true, true, false, true, true, true, false, true, true, true, true, true, true, false, true, true, false, false, false, true, true, false, true, true, true, true, false, true, true, false, false, true, true, false, false, true, false, false, false, true, true, false, false, false, false, false, false, false, false, true, true, false, false, true, true, false, true, false, true, true, true, false, true, false, false, false, true, false, false, true, true, false, true, false, false, true, false, true, false, false, true, false, true, true, true, true, false, true, true, false, false, false, true, false, true, false, true, false, true, true, true, false, true, false, false, true, true, true, false, true, true, false, false, false, false, false, false, true, false, true, false, false, true, false, false, true, true, false, true, false, false, true, true, false, true, true, false, true, true, true, false, true, true, false, false, false, true, false, true, true, true, true, false, true, true, true, true, true, true, false, false, false, true, true, false, true, true, false, true, true, false, false, true, true, true, false, false, false, true, true, true, false, false, true, false, false, false, false, false, false, true, true, false, true, true, true, false, true, false, true, false, true, true, false, true, false, true, false, true, false, false, false, false, true, true, false, true, true, true, false, true, false, false, true, false, true, true, false, true, false, false, true, false, true, false, false, true, false, false, true, false, false, true, true, false, false, false, false, false, false, false, false, false, true, false, false, false, false, false, false, true, true, true, false, false, true, false, true, false, true, false, true, false, false, true, true, true, true, true, false, true, true, false, true, false, true, false, true, true, true, true, true, true, true, false, true, true, true, true, false, true, false, false, true, false, false, false, true, false, true, true, false, false, true, true, false, false, false, false, false, false, false, true, false, false, false, false, false, false, true, true, false, true, false, false, false, false, false, false, true, true, false, false, true, false, true, false, true, false, true, true, true, true, false, false, false, false, false, true, true, true, true, true, true, false, true, true, true, false, false, false, true, false, false, true, true, true, false, true, false, false, false, true, false, false, true, true, false, false, false, true, false, false, false, false, true, false, false, true, false, true, false, true, false, true, true, true, true, false, false, true, true, false, false, false, true, false, false, true, false, false, true, false, false, true, false, false, false, false, true, false, false, true, false, true, false, false, false, false, false, false, false, true, false, true, false, false, true, true, true, true, false, false, false, false, false, false, false, true, false, true, true, false, true, false, false, false], \"change_models\": [{\"thermal\": {\"magnitude\": 765.8593087562731, \"coefficients\": [0.03549139239146405, -1863.0377996350692, 126.92659589599329, 0.0, 0.0, 30.605111721072543, -116.64655142065772], \"rmse\": 546.2819448076614, \"intercept\": -23834.22971544911}, \"nir\": {\"magnitude\": 67.8922559609382, \"coefficients\": [-0.051520461410253425, -284.63891459416163, 18.89484186826292, 0.0, 0.0, 23.198999641088974, 0.0], \"rmse\": 166.68358740543164, \"intercept\": 39455.96812003759}, \"end_day\": 735773, \"change_probability\": 0, \"swir1\": {\"magnitude\": 113.09207037140732, \"coefficients\": [-0.03695663204022088, -304.0267163416981, -63.23015316940118, 0.0, 0.0, -24.333188063878932, 7.9931260293475725], \"rmse\": 197.20490462832294, \"intercept\": 29326.599110677264}, \"observation_count\": 793, \"curve_qa\": 8, \"start_day\": 724389, \"green\": {\"magnitude\": 103.96285200998318, \"coefficients\": [-0.04956756531535032, -167.1555657238514, -46.72021919077127, 0.0, 0.0, -0.0, 3.1495574631406273], \"rmse\": 146.23431169807577, \"intercept\": 37374.92100516031}, \"blue\": {\"magnitude\": 100.4334165196633, \"coefficients\": [-0.039012867625228494, -87.15071098893544, -36.35057914768626, 0.0, 0.0, -1.82702651353008, 2.6819487217435842], \"rmse\": 144.33404842414643, \"intercept\": 29383.31117896445}, \"swir2\": {\"magnitude\": 72.76401661756245, \"coefficients\": [-0.041821739025016236, -311.6944389163688, -45.598453939935936, 0.0, 0.0, -27.4171606607272, 7.966324088669763], \"rmse\": 190.2994902325009, \"intercept\": 32454.85297658483}, \"red\": {\"magnitude\": 134.2493908384422, \"coefficients\": [-0.047657617874083076, -238.84830927704306, -101.58283445071363, 0.0, 0.0, -6.419743976447631, 6.261273556172539], \"rmse\": 146.94165209314758, \"intercept\": 36191.92067639939}, \"break_day\": 735773}], \"procedure\": \"standard_procedure\", \"algorithm\": \"lcmap-pyccd:1.3.0\"}',\n",
       " 'result_md5': '095eb16c9f5e3bbc536c1a955468f29e',\n",
       " 'result_ok': True,\n",
       " 'result_produced': '2017-04-10T21:14:27Z',\n",
       " 'tile_x': -1821585,\n",
       " 'tile_y': 2891595,\n",
       " 'x': -1821585,\n",
       " 'y': 2891595}"
      ]
     },
     "execution_count": 15,
     "metadata": {},
     "output_type": "execute_result"
    }
   ],
   "source": [
    "x[0]"
   ]
  },
  {
   "cell_type": "code",
   "execution_count": 7,
   "metadata": {
    "collapsed": true,
    "deletable": true,
    "editable": true
   },
   "outputs": [],
   "source": [
    "# super simple rdd and spark job test, help ensure our spark jobs can get placed\n",
    "#import random\n",
    "\n",
    "#def inside(p):\n",
    "#    x, y = random.random(), random.random()\n",
    "#    return x*x + y*y < 1"
   ]
  },
  {
   "cell_type": "code",
   "execution_count": 8,
   "metadata": {
    "collapsed": true,
    "deletable": true,
    "editable": true
   },
   "outputs": [],
   "source": [
    "#count = sc.parallelize(range(0, 10)).filter(inside).count()"
   ]
  }
 ],
 "metadata": {
  "kernelspec": {
   "display_name": "Python 3",
   "language": "python",
   "name": "python3"
  },
  "language_info": {
   "codemirror_mode": {
    "name": "ipython",
    "version": 3
   },
   "file_extension": ".py",
   "mimetype": "text/x-python",
   "name": "python",
   "nbconvert_exporter": "python",
   "pygments_lexer": "ipython3",
   "version": "3.5.2"
  }
 },
 "nbformat": 4,
 "nbformat_minor": 2
}
