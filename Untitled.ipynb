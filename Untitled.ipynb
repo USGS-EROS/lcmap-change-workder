{
 "cells": [
  {
   "cell_type": "code",
   "execution_count": 1,
   "metadata": {
    "collapsed": true
   },
   "outputs": [],
   "source": [
    "from merlin.support import aardvark, chip_spec_queries, data_config\n",
    "from merlin.timeseries import pyccd as pyccd_rods\n",
    "import timeit\n",
    "\n",
    "\n",
    "def get_rods():\n",
    "    dc       = data_config()\n",
    "    point    = (dc['x'], dc['y'])\n",
    "    specurl  = 'http://localhost'\n",
    "    chipurl  = 'http://localhost'\n",
    "    specs_fn = aardvark.chip_specs\n",
    "    chips_fn = aardvark.chips\n",
    "    acquired = dc['acquired']\n",
    "    queries  = chip_spec_queries(chipurl)\n",
    "    return pyccd_rods(point, specurl, specs_fn, chipurl, chips_fn, acquired, queries)    "
   ]
  },
  {
   "cell_type": "code",
   "execution_count": 2,
   "metadata": {
    "collapsed": true
   },
   "outputs": [],
   "source": [
    "rods = get_rods()"
   ]
  },
  {
   "cell_type": "code",
   "execution_count": 3,
   "metadata": {},
   "outputs": [
    {
     "data": {
      "text/plain": [
       "((-1821585.0, 2891805.0), -1821015.0, 2890005.0)"
      ]
     },
     "execution_count": 3,
     "metadata": {},
     "output_type": "execute_result"
    }
   ],
   "source": [
    "rods[0][0]"
   ]
  },
  {
   "cell_type": "code",
   "execution_count": 4,
   "metadata": {},
   "outputs": [
    {
     "data": {
      "text/plain": [
       "dict_keys(['greens', 'nirs', 'swir1s', 'dates', 'reds', 'swir2s', 'quality', 'blues', 'thermals'])"
      ]
     },
     "execution_count": 4,
     "metadata": {},
     "output_type": "execute_result"
    }
   ],
   "source": [
    "rods[0][1].keys()"
   ]
  },
  {
   "cell_type": "code",
   "execution_count": 5,
   "metadata": {},
   "outputs": [
    {
     "data": {
      "text/plain": [
       "((-1821585.0, 2891805.0), -1820535.0, 2889525.0)"
      ]
     },
     "execution_count": 5,
     "metadata": {},
     "output_type": "execute_result"
    }
   ],
   "source": [
    "rods[1][0]"
   ]
  },
  {
   "cell_type": "code",
   "execution_count": 6,
   "metadata": {},
   "outputs": [
    {
     "data": {
      "text/plain": [
       "[735574,\n",
       " 735573,\n",
       " 735566,\n",
       " 735565,\n",
       " 735557,\n",
       " 735550,\n",
       " 735549,\n",
       " 735541,\n",
       " 735534,\n",
       " 735533,\n",
       " 735526,\n",
       " 735525,\n",
       " 735518,\n",
       " 735517,\n",
       " 735510,\n",
       " 735509,\n",
       " 735502,\n",
       " 735494,\n",
       " 735493,\n",
       " 735486,\n",
       " 735478,\n",
       " 735477,\n",
       " 735470,\n",
       " 735469,\n",
       " 735462,\n",
       " 735461,\n",
       " 735454,\n",
       " 735453,\n",
       " 735446,\n",
       " 735445,\n",
       " 735438,\n",
       " 735437,\n",
       " 735430,\n",
       " 735429,\n",
       " 735422,\n",
       " 735421,\n",
       " 735414,\n",
       " 735413,\n",
       " 735406,\n",
       " 735405,\n",
       " 735398,\n",
       " 735397,\n",
       " 735390,\n",
       " 735389,\n",
       " 735382,\n",
       " 735381,\n",
       " 735374,\n",
       " 735373,\n",
       " 735366,\n",
       " 735365,\n",
       " 735358,\n",
       " 735350,\n",
       " 735349,\n",
       " 735342,\n",
       " 735341,\n",
       " 735334,\n",
       " 735333,\n",
       " 735326,\n",
       " 735325,\n",
       " 735318,\n",
       " 735317,\n",
       " 735310,\n",
       " 735309,\n",
       " 735302,\n",
       " 735301,\n",
       " 735294,\n",
       " 735286,\n",
       " 735285,\n",
       " 735278,\n",
       " 735277,\n",
       " 735270,\n",
       " 735269,\n",
       " 735262,\n",
       " 735253,\n",
       " 735246,\n",
       " 735245,\n",
       " 735238,\n",
       " 735237,\n",
       " 735230,\n",
       " 735221,\n",
       " 735214,\n",
       " 735213,\n",
       " 735206,\n",
       " 735205,\n",
       " 735198,\n",
       " 735197,\n",
       " 735189,\n",
       " 735182,\n",
       " 735181,\n",
       " 735174,\n",
       " 735173,\n",
       " 735166,\n",
       " 735165,\n",
       " 735158,\n",
       " 735157,\n",
       " 735150,\n",
       " 735149,\n",
       " 735142,\n",
       " 735141,\n",
       " 735134,\n",
       " 735133,\n",
       " 735126,\n",
       " 735125,\n",
       " 735118,\n",
       " 735110,\n",
       " 735109,\n",
       " 735102,\n",
       " 735094,\n",
       " 735093,\n",
       " 735086,\n",
       " 735085,\n",
       " 735078,\n",
       " 735077,\n",
       " 735070,\n",
       " 735069,\n",
       " 735062,\n",
       " 735061,\n",
       " 735054,\n",
       " 735053,\n",
       " 735046,\n",
       " 735045,\n",
       " 735038,\n",
       " 735037,\n",
       " 735030,\n",
       " 735029,\n",
       " 735022,\n",
       " 735021,\n",
       " 735014,\n",
       " 735013,\n",
       " 735005,\n",
       " 734998,\n",
       " 734989,\n",
       " 734982,\n",
       " 734981,\n",
       " 734974,\n",
       " 734966,\n",
       " 734952,\n",
       " 734950,\n",
       " 734934,\n",
       " 734925,\n",
       " 734918,\n",
       " 734909,\n",
       " 734902,\n",
       " 734877,\n",
       " 734861,\n",
       " 734854,\n",
       " 734845,\n",
       " 734838,\n",
       " 734829,\n",
       " 734813,\n",
       " 734797,\n",
       " 734790,\n",
       " 734781,\n",
       " 734774,\n",
       " 734765,\n",
       " 734758,\n",
       " 734749,\n",
       " 734742,\n",
       " 734733,\n",
       " 734726,\n",
       " 734717,\n",
       " 734710,\n",
       " 734694,\n",
       " 734685,\n",
       " 734678,\n",
       " 734669,\n",
       " 734662,\n",
       " 734653,\n",
       " 734646,\n",
       " 734637,\n",
       " 734630,\n",
       " 734621,\n",
       " 734614,\n",
       " 734605,\n",
       " 734598,\n",
       " 734582,\n",
       " 734573,\n",
       " 734566,\n",
       " 734557,\n",
       " 734550,\n",
       " 734534,\n",
       " 734525,\n",
       " 734518,\n",
       " 734509]"
      ]
     },
     "execution_count": 6,
     "metadata": {},
     "output_type": "execute_result"
    }
   ],
   "source": [
    "rods[0][1]['dates']"
   ]
  },
  {
   "cell_type": "code",
   "execution_count": null,
   "metadata": {
    "collapsed": true
   },
   "outputs": [],
   "source": []
  }
 ],
 "metadata": {
  "kernelspec": {
   "display_name": "Python 3",
   "language": "python",
   "name": "python3"
  },
  "language_info": {
   "codemirror_mode": {
    "name": "ipython",
    "version": 3
   },
   "file_extension": ".py",
   "mimetype": "text/x-python",
   "name": "python",
   "nbconvert_exporter": "python",
   "pygments_lexer": "ipython3",
   "version": "3.5.4"
  }
 },
 "nbformat": 4,
 "nbformat_minor": 2
}
